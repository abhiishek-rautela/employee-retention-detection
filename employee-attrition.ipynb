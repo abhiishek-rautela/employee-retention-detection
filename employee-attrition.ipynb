{
 "cells": [
  {
   "cell_type": "code",
   "execution_count": 1,
   "metadata": {},
   "outputs": [
    {
     "data": {
      "text/html": [
       "        <script type=\"text/javascript\">\n",
       "        window.PlotlyConfig = {MathJaxConfig: 'local'};\n",
       "        if (window.MathJax && window.MathJax.Hub && window.MathJax.Hub.Config) {window.MathJax.Hub.Config({SVG: {font: \"STIX-Web\"}});}\n",
       "        </script>\n",
       "        <script type=\"module\">import \"https://cdn.plot.ly/plotly-3.0.0.min\"</script>\n",
       "        "
      ]
     },
     "metadata": {},
     "output_type": "display_data"
    }
   ],
   "source": [
    "import numpy as np # linear algebra\n",
    "import pandas as pd # data processing\n",
    "import seaborn as sns\n",
    "import matplotlib.pyplot as plt\n",
    "%matplotlib inline\n",
    "\n",
    "# Import statements required for Plotly \n",
    "import plotly.offline as py\n",
    "py.init_notebook_mode(connected=True)\n",
    "import plotly.graph_objs as go\n",
    "import plotly.tools as tls\n",
    "\n",
    "\n",
    "from sklearn.ensemble import RandomForestClassifier, GradientBoostingClassifier\n",
    "from sklearn.linear_model import LogisticRegression\n",
    "from sklearn.metrics import (accuracy_score, log_loss, classification_report)\n",
    "from imblearn.over_sampling import SMOTE\n",
    "import xgboost"
   ]
  },
  {
   "cell_type": "code",
   "execution_count": 2,
   "metadata": {},
   "outputs": [],
   "source": [
    "attrition = pd.read_csv('Employee-Attrition.csv')"
   ]
  },
  {
   "cell_type": "code",
   "execution_count": null,
   "metadata": {},
   "outputs": [],
   "source": [
    "f, axes = plt.subplots(3, 3, figsize=(10, 8), \n",
    "                       sharex=False, sharey=False)\n",
    "\n",
    "# Defining our colormap scheme\n",
    "s = np.linspace(0, 3, 10)\n",
    "cmap = sns.cubehelix_palette(start=0.0, light=1, as_cmap=True)\n",
    "\n",
    "# Generate and plot\n",
    "x = attrition['Age'].values\n",
    "y = attrition['TotalWorkingYears'].values\n",
    "sns.kdeplot(x, y, cmap=cmap, shade=True, cut=5, ax=axes[0,0])\n",
    "axes[0,0].set( title = 'Age against Total working years')\n",
    "\n",
    "cmap = sns.cubehelix_palette(start=0.333333333333, light=1, as_cmap=True)\n",
    "# Generate and plot\n",
    "x = attrition['Age'].values\n",
    "y = attrition['DailyRate'].values\n",
    "sns.kdeplot(x, y, cmap=cmap, shade=True, ax=axes[0,1])\n",
    "axes[0,1].set( title = 'Age against Daily Rate')\n",
    "\n",
    "cmap = sns.cubehelix_palette(start=0.666666666667, light=1, as_cmap=True)\n",
    "# Generate and plot\n",
    "x = attrition['YearsInCurrentRole'].values\n",
    "y = attrition['Age'].values\n",
    "sns.kdeplot(x, y, cmap=cmap, shade=True, ax=axes[0,2])\n",
    "axes[0,2].set( title = 'Years in role against Age')\n",
    "\n",
    "cmap = sns.cubehelix_palette(start=1.0, light=1, as_cmap=True)\n",
    "# Generate and plot\n",
    "x = attrition['DailyRate'].values\n",
    "y = attrition['DistanceFromHome'].values\n",
    "sns.kdeplot(x, y, cmap=cmap, shade=True,  ax=axes[1,0])\n",
    "axes[1,0].set( title = 'Daily Rate against DistancefromHome')\n",
    "\n",
    "cmap = sns.cubehelix_palette(start=1.333333333333, light=1, as_cmap=True)\n",
    "# Generate and plot\n",
    "x = attrition['DailyRate'].values\n",
    "y = attrition['JobSatisfaction'].values\n",
    "sns.kdeplot(x, y, cmap=cmap, shade=True,  ax=axes[1,1])\n",
    "axes[1,1].set( title = 'Daily Rate against Job satisfaction')\n",
    "\n",
    "cmap = sns.cubehelix_palette(start=1.666666666667, light=1, as_cmap=True)\n",
    "# Generate and plot\n",
    "x = attrition['YearsAtCompany'].values\n",
    "y = attrition['JobSatisfaction'].values\n",
    "sns.kdeplot(x, y, cmap=cmap, shade=True,  ax=axes[1,2])\n",
    "axes[1,2].set( title = 'Daily Rate against distance')\n",
    "\n",
    "cmap = sns.cubehelix_palette(start=2.0, light=1, as_cmap=True)\n",
    "# Generate and plot\n",
    "x = attrition['YearsAtCompany'].values\n",
    "y = attrition['DailyRate'].values\n",
    "sns.kdeplot(x, y, cmap=cmap, shade=True,  ax=axes[2,0])\n",
    "axes[2,0].set( title = 'Years at company against Daily Rate')\n",
    "\n",
    "cmap = sns.cubehelix_palette(start=2.333333333333, light=1, as_cmap=True)\n",
    "# Generate and plot\n",
    "x = attrition['RelationshipSatisfaction'].values\n",
    "y = attrition['YearsWithCurrManager'].values\n",
    "sns.kdeplot(x, y, cmap=cmap, shade=True,  ax=axes[2,1])\n",
    "axes[2,1].set( title = 'Relationship Satisfaction vs years with manager')\n",
    "\n",
    "cmap = sns.cubehelix_palette(start=2.666666666667, light=1, as_cmap=True)\n",
    "# Generate and plot\n",
    "x = attrition['WorkLifeBalance'].values\n",
    "y = attrition['JobSatisfaction'].values\n",
    "sns.kdeplot(x, y, cmap=cmap, shade=True,  ax=axes[2,2])\n",
    "axes[2,2].set( title = 'WorklifeBalance against Satisfaction')\n",
    "\n",
    "f.tight_layout()"
   ]
  },
  {
   "cell_type": "code",
   "execution_count": null,
   "metadata": {},
   "outputs": [
    {
     "data": {
      "application/vnd.plotly.v1+json": {
       "config": {
        "linkText": "Export to plot.ly",
        "plotlyServerURL": "https://plot.ly",
        "showLink": false
       },
       "data": [
        {
         "colorscale": [
          [
           0,
           "#440154"
          ],
          [
           0.1111111111111111,
           "#482878"
          ],
          [
           0.2222222222222222,
           "#3e4989"
          ],
          [
           0.3333333333333333,
           "#31688e"
          ],
          [
           0.4444444444444444,
           "#26828e"
          ],
          [
           0.5555555555555556,
           "#1f9e89"
          ],
          [
           0.6666666666666666,
           "#35b779"
          ],
          [
           0.7777777777777778,
           "#6ece58"
          ],
          [
           0.8888888888888888,
           "#b5de2b"
          ],
          [
           1,
           "#fde725"
          ]
         ],
         "opacity": 1,
         "reversescale": false,
         "type": "heatmap",
         "x": [
          "Age",
          "DailyRate",
          "DistanceFromHome",
          "Education",
          "EmployeeNumber",
          "EnvironmentSatisfaction",
          "HourlyRate",
          "JobInvolvement",
          "JobLevel",
          "JobSatisfaction",
          "MonthlyIncome",
          "MonthlyRate",
          "NumCompaniesWorked",
          "PercentSalaryHike",
          "PerformanceRating",
          "RelationshipSatisfaction",
          "StockOptionLevel",
          "TotalWorkingYears",
          "TrainingTimesLastYear",
          "WorkLifeBalance",
          "YearsAtCompany",
          "YearsInCurrentRole",
          "YearsSinceLastPromotion",
          "YearsWithCurrManager"
         ],
         "y": [
          "Age",
          "DailyRate",
          "DistanceFromHome",
          "Education",
          "EmployeeNumber",
          "EnvironmentSatisfaction",
          "HourlyRate",
          "JobInvolvement",
          "JobLevel",
          "JobSatisfaction",
          "MonthlyIncome",
          "MonthlyRate",
          "NumCompaniesWorked",
          "PercentSalaryHike",
          "PerformanceRating",
          "RelationshipSatisfaction",
          "StockOptionLevel",
          "TotalWorkingYears",
          "TrainingTimesLastYear",
          "WorkLifeBalance",
          "YearsAtCompany",
          "YearsInCurrentRole",
          "YearsSinceLastPromotion",
          "YearsWithCurrManager"
         ],
         "z": {
          "bdata": "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",
          "dtype": "f8",
          "shape": "24, 24"
         }
        }
       ],
       "layout": {
        "height": 700,
        "template": {
         "data": {
          "bar": [
           {
            "error_x": {
             "color": "#2a3f5f"
            },
            "error_y": {
             "color": "#2a3f5f"
            },
            "marker": {
             "line": {
              "color": "#E5ECF6",
              "width": 0.5
             },
             "pattern": {
              "fillmode": "overlay",
              "size": 10,
              "solidity": 0.2
             }
            },
            "type": "bar"
           }
          ],
          "barpolar": [
           {
            "marker": {
             "line": {
              "color": "#E5ECF6",
              "width": 0.5
             },
             "pattern": {
              "fillmode": "overlay",
              "size": 10,
              "solidity": 0.2
             }
            },
            "type": "barpolar"
           }
          ],
          "carpet": [
           {
            "aaxis": {
             "endlinecolor": "#2a3f5f",
             "gridcolor": "white",
             "linecolor": "white",
             "minorgridcolor": "white",
             "startlinecolor": "#2a3f5f"
            },
            "baxis": {
             "endlinecolor": "#2a3f5f",
             "gridcolor": "white",
             "linecolor": "white",
             "minorgridcolor": "white",
             "startlinecolor": "#2a3f5f"
            },
            "type": "carpet"
           }
          ],
          "choropleth": [
           {
            "colorbar": {
             "outlinewidth": 0,
             "ticks": ""
            },
            "type": "choropleth"
           }
          ],
          "contour": [
           {
            "colorbar": {
             "outlinewidth": 0,
             "ticks": ""
            },
            "colorscale": [
             [
              0,
              "#0d0887"
             ],
             [
              0.1111111111111111,
              "#46039f"
             ],
             [
              0.2222222222222222,
              "#7201a8"
             ],
             [
              0.3333333333333333,
              "#9c179e"
             ],
             [
              0.4444444444444444,
              "#bd3786"
             ],
             [
              0.5555555555555556,
              "#d8576b"
             ],
             [
              0.6666666666666666,
              "#ed7953"
             ],
             [
              0.7777777777777778,
              "#fb9f3a"
             ],
             [
              0.8888888888888888,
              "#fdca26"
             ],
             [
              1,
              "#f0f921"
             ]
            ],
            "type": "contour"
           }
          ],
          "contourcarpet": [
           {
            "colorbar": {
             "outlinewidth": 0,
             "ticks": ""
            },
            "type": "contourcarpet"
           }
          ],
          "heatmap": [
           {
            "colorbar": {
             "outlinewidth": 0,
             "ticks": ""
            },
            "colorscale": [
             [
              0,
              "#0d0887"
             ],
             [
              0.1111111111111111,
              "#46039f"
             ],
             [
              0.2222222222222222,
              "#7201a8"
             ],
             [
              0.3333333333333333,
              "#9c179e"
             ],
             [
              0.4444444444444444,
              "#bd3786"
             ],
             [
              0.5555555555555556,
              "#d8576b"
             ],
             [
              0.6666666666666666,
              "#ed7953"
             ],
             [
              0.7777777777777778,
              "#fb9f3a"
             ],
             [
              0.8888888888888888,
              "#fdca26"
             ],
             [
              1,
              "#f0f921"
             ]
            ],
            "type": "heatmap"
           }
          ],
          "histogram": [
           {
            "marker": {
             "pattern": {
              "fillmode": "overlay",
              "size": 10,
              "solidity": 0.2
             }
            },
            "type": "histogram"
           }
          ],
          "histogram2d": [
           {
            "colorbar": {
             "outlinewidth": 0,
             "ticks": ""
            },
            "colorscale": [
             [
              0,
              "#0d0887"
             ],
             [
              0.1111111111111111,
              "#46039f"
             ],
             [
              0.2222222222222222,
              "#7201a8"
             ],
             [
              0.3333333333333333,
              "#9c179e"
             ],
             [
              0.4444444444444444,
              "#bd3786"
             ],
             [
              0.5555555555555556,
              "#d8576b"
             ],
             [
              0.6666666666666666,
              "#ed7953"
             ],
             [
              0.7777777777777778,
              "#fb9f3a"
             ],
             [
              0.8888888888888888,
              "#fdca26"
             ],
             [
              1,
              "#f0f921"
             ]
            ],
            "type": "histogram2d"
           }
          ],
          "histogram2dcontour": [
           {
            "colorbar": {
             "outlinewidth": 0,
             "ticks": ""
            },
            "colorscale": [
             [
              0,
              "#0d0887"
             ],
             [
              0.1111111111111111,
              "#46039f"
             ],
             [
              0.2222222222222222,
              "#7201a8"
             ],
             [
              0.3333333333333333,
              "#9c179e"
             ],
             [
              0.4444444444444444,
              "#bd3786"
             ],
             [
              0.5555555555555556,
              "#d8576b"
             ],
             [
              0.6666666666666666,
              "#ed7953"
             ],
             [
              0.7777777777777778,
              "#fb9f3a"
             ],
             [
              0.8888888888888888,
              "#fdca26"
             ],
             [
              1,
              "#f0f921"
             ]
            ],
            "type": "histogram2dcontour"
           }
          ],
          "mesh3d": [
           {
            "colorbar": {
             "outlinewidth": 0,
             "ticks": ""
            },
            "type": "mesh3d"
           }
          ],
          "parcoords": [
           {
            "line": {
             "colorbar": {
              "outlinewidth": 0,
              "ticks": ""
             }
            },
            "type": "parcoords"
           }
          ],
          "pie": [
           {
            "automargin": true,
            "type": "pie"
           }
          ],
          "scatter": [
           {
            "fillpattern": {
             "fillmode": "overlay",
             "size": 10,
             "solidity": 0.2
            },
            "type": "scatter"
           }
          ],
          "scatter3d": [
           {
            "line": {
             "colorbar": {
              "outlinewidth": 0,
              "ticks": ""
             }
            },
            "marker": {
             "colorbar": {
              "outlinewidth": 0,
              "ticks": ""
             }
            },
            "type": "scatter3d"
           }
          ],
          "scattercarpet": [
           {
            "marker": {
             "colorbar": {
              "outlinewidth": 0,
              "ticks": ""
             }
            },
            "type": "scattercarpet"
           }
          ],
          "scattergeo": [
           {
            "marker": {
             "colorbar": {
              "outlinewidth": 0,
              "ticks": ""
             }
            },
            "type": "scattergeo"
           }
          ],
          "scattergl": [
           {
            "marker": {
             "colorbar": {
              "outlinewidth": 0,
              "ticks": ""
             }
            },
            "type": "scattergl"
           }
          ],
          "scattermap": [
           {
            "marker": {
             "colorbar": {
              "outlinewidth": 0,
              "ticks": ""
             }
            },
            "type": "scattermap"
           }
          ],
          "scattermapbox": [
           {
            "marker": {
             "colorbar": {
              "outlinewidth": 0,
              "ticks": ""
             }
            },
            "type": "scattermapbox"
           }
          ],
          "scatterpolar": [
           {
            "marker": {
             "colorbar": {
              "outlinewidth": 0,
              "ticks": ""
             }
            },
            "type": "scatterpolar"
           }
          ],
          "scatterpolargl": [
           {
            "marker": {
             "colorbar": {
              "outlinewidth": 0,
              "ticks": ""
             }
            },
            "type": "scatterpolargl"
           }
          ],
          "scatterternary": [
           {
            "marker": {
             "colorbar": {
              "outlinewidth": 0,
              "ticks": ""
             }
            },
            "type": "scatterternary"
           }
          ],
          "surface": [
           {
            "colorbar": {
             "outlinewidth": 0,
             "ticks": ""
            },
            "colorscale": [
             [
              0,
              "#0d0887"
             ],
             [
              0.1111111111111111,
              "#46039f"
             ],
             [
              0.2222222222222222,
              "#7201a8"
             ],
             [
              0.3333333333333333,
              "#9c179e"
             ],
             [
              0.4444444444444444,
              "#bd3786"
             ],
             [
              0.5555555555555556,
              "#d8576b"
             ],
             [
              0.6666666666666666,
              "#ed7953"
             ],
             [
              0.7777777777777778,
              "#fb9f3a"
             ],
             [
              0.8888888888888888,
              "#fdca26"
             ],
             [
              1,
              "#f0f921"
             ]
            ],
            "type": "surface"
           }
          ],
          "table": [
           {
            "cells": {
             "fill": {
              "color": "#EBF0F8"
             },
             "line": {
              "color": "white"
             }
            },
            "header": {
             "fill": {
              "color": "#C8D4E3"
             },
             "line": {
              "color": "white"
             }
            },
            "type": "table"
           }
          ]
         },
         "layout": {
          "annotationdefaults": {
           "arrowcolor": "#2a3f5f",
           "arrowhead": 0,
           "arrowwidth": 1
          },
          "autotypenumbers": "strict",
          "coloraxis": {
           "colorbar": {
            "outlinewidth": 0,
            "ticks": ""
           }
          },
          "colorscale": {
           "diverging": [
            [
             0,
             "#8e0152"
            ],
            [
             0.1,
             "#c51b7d"
            ],
            [
             0.2,
             "#de77ae"
            ],
            [
             0.3,
             "#f1b6da"
            ],
            [
             0.4,
             "#fde0ef"
            ],
            [
             0.5,
             "#f7f7f7"
            ],
            [
             0.6,
             "#e6f5d0"
            ],
            [
             0.7,
             "#b8e186"
            ],
            [
             0.8,
             "#7fbc41"
            ],
            [
             0.9,
             "#4d9221"
            ],
            [
             1,
             "#276419"
            ]
           ],
           "sequential": [
            [
             0,
             "#0d0887"
            ],
            [
             0.1111111111111111,
             "#46039f"
            ],
            [
             0.2222222222222222,
             "#7201a8"
            ],
            [
             0.3333333333333333,
             "#9c179e"
            ],
            [
             0.4444444444444444,
             "#bd3786"
            ],
            [
             0.5555555555555556,
             "#d8576b"
            ],
            [
             0.6666666666666666,
             "#ed7953"
            ],
            [
             0.7777777777777778,
             "#fb9f3a"
            ],
            [
             0.8888888888888888,
             "#fdca26"
            ],
            [
             1,
             "#f0f921"
            ]
           ],
           "sequentialminus": [
            [
             0,
             "#0d0887"
            ],
            [
             0.1111111111111111,
             "#46039f"
            ],
            [
             0.2222222222222222,
             "#7201a8"
            ],
            [
             0.3333333333333333,
             "#9c179e"
            ],
            [
             0.4444444444444444,
             "#bd3786"
            ],
            [
             0.5555555555555556,
             "#d8576b"
            ],
            [
             0.6666666666666666,
             "#ed7953"
            ],
            [
             0.7777777777777778,
             "#fb9f3a"
            ],
            [
             0.8888888888888888,
             "#fdca26"
            ],
            [
             1,
             "#f0f921"
            ]
           ]
          },
          "colorway": [
           "#636efa",
           "#EF553B",
           "#00cc96",
           "#ab63fa",
           "#FFA15A",
           "#19d3f3",
           "#FF6692",
           "#B6E880",
           "#FF97FF",
           "#FECB52"
          ],
          "font": {
           "color": "#2a3f5f"
          },
          "geo": {
           "bgcolor": "white",
           "lakecolor": "white",
           "landcolor": "#E5ECF6",
           "showlakes": true,
           "showland": true,
           "subunitcolor": "white"
          },
          "hoverlabel": {
           "align": "left"
          },
          "hovermode": "closest",
          "mapbox": {
           "style": "light"
          },
          "paper_bgcolor": "white",
          "plot_bgcolor": "#E5ECF6",
          "polar": {
           "angularaxis": {
            "gridcolor": "white",
            "linecolor": "white",
            "ticks": ""
           },
           "bgcolor": "#E5ECF6",
           "radialaxis": {
            "gridcolor": "white",
            "linecolor": "white",
            "ticks": ""
           }
          },
          "scene": {
           "xaxis": {
            "backgroundcolor": "#E5ECF6",
            "gridcolor": "white",
            "gridwidth": 2,
            "linecolor": "white",
            "showbackground": true,
            "ticks": "",
            "zerolinecolor": "white"
           },
           "yaxis": {
            "backgroundcolor": "#E5ECF6",
            "gridcolor": "white",
            "gridwidth": 2,
            "linecolor": "white",
            "showbackground": true,
            "ticks": "",
            "zerolinecolor": "white"
           },
           "zaxis": {
            "backgroundcolor": "#E5ECF6",
            "gridcolor": "white",
            "gridwidth": 2,
            "linecolor": "white",
            "showbackground": true,
            "ticks": "",
            "zerolinecolor": "white"
           }
          },
          "shapedefaults": {
           "line": {
            "color": "#2a3f5f"
           }
          },
          "ternary": {
           "aaxis": {
            "gridcolor": "white",
            "linecolor": "white",
            "ticks": ""
           },
           "baxis": {
            "gridcolor": "white",
            "linecolor": "white",
            "ticks": ""
           },
           "bgcolor": "#E5ECF6",
           "caxis": {
            "gridcolor": "white",
            "linecolor": "white",
            "ticks": ""
           }
          },
          "title": {
           "x": 0.05
          },
          "xaxis": {
           "automargin": true,
           "gridcolor": "white",
           "linecolor": "white",
           "ticks": "",
           "title": {
            "standoff": 15
           },
           "zerolinecolor": "white",
           "zerolinewidth": 2
          },
          "yaxis": {
           "automargin": true,
           "gridcolor": "white",
           "linecolor": "white",
           "ticks": "",
           "title": {
            "standoff": 15
           },
           "zerolinecolor": "white",
           "zerolinewidth": 2
          }
         }
        },
        "title": {
         "text": "Pearson Correlation of numerical features"
        },
        "width": 900,
        "xaxis": {
         "nticks": 36,
         "ticks": ""
        },
        "yaxis": {
         "ticks": ""
        }
       }
      },
      "text/html": [
       "<div>            <script src=\"https://cdnjs.cloudflare.com/ajax/libs/mathjax/2.7.5/MathJax.js?config=TeX-AMS-MML_SVG\"></script><script type=\"text/javascript\">if (window.MathJax && window.MathJax.Hub && window.MathJax.Hub.Config) {window.MathJax.Hub.Config({SVG: {font: \"STIX-Web\"}});}</script>                <script type=\"text/javascript\">window.PlotlyConfig = {MathJaxConfig: 'local'};</script>\n",
       "        <script charset=\"utf-8\" src=\"https://cdn.plot.ly/plotly-3.0.0.min.js\"></script>                <div id=\"d4f46185-a013-471c-a50f-a12587386082\" class=\"plotly-graph-div\" style=\"height:700px; width:900px;\"></div>            <script type=\"text/javascript\">                window.PLOTLYENV=window.PLOTLYENV || {};                                if (document.getElementById(\"d4f46185-a013-471c-a50f-a12587386082\")) {                    Plotly.newPlot(                        \"d4f46185-a013-471c-a50f-a12587386082\",                        [{\"colorscale\":[[0.0,\"#440154\"],[0.1111111111111111,\"#482878\"],[0.2222222222222222,\"#3e4989\"],[0.3333333333333333,\"#31688e\"],[0.4444444444444444,\"#26828e\"],[0.5555555555555556,\"#1f9e89\"],[0.6666666666666666,\"#35b779\"],[0.7777777777777778,\"#6ece58\"],[0.8888888888888888,\"#b5de2b\"],[1.0,\"#fde725\"]],\"opacity\":1.0,\"reversescale\":false,\"x\":[\"Age\",\"DailyRate\",\"DistanceFromHome\",\"Education\",\"EmployeeNumber\",\"EnvironmentSatisfaction\",\"HourlyRate\",\"JobInvolvement\",\"JobLevel\",\"JobSatisfaction\",\"MonthlyIncome\",\"MonthlyRate\",\"NumCompaniesWorked\",\"PercentSalaryHike\",\"PerformanceRating\",\"RelationshipSatisfaction\",\"StockOptionLevel\",\"TotalWorkingYears\",\"TrainingTimesLastYear\",\"WorkLifeBalance\",\"YearsAtCompany\",\"YearsInCurrentRole\",\"YearsSinceLastPromotion\",\"YearsWithCurrManager\"],\"y\":[\"Age\",\"DailyRate\",\"DistanceFromHome\",\"Education\",\"EmployeeNumber\",\"EnvironmentSatisfaction\",\"HourlyRate\",\"JobInvolvement\",\"JobLevel\",\"JobSatisfaction\",\"MonthlyIncome\",\"MonthlyRate\",\"NumCompaniesWorked\",\"PercentSalaryHike\",\"PerformanceRating\",\"RelationshipSatisfaction\",\"StockOptionLevel\",\"TotalWorkingYears\",\"TrainingTimesLastYear\",\"WorkLifeBalance\",\"YearsAtCompany\",\"YearsInCurrentRole\",\"YearsSinceLastPromotion\",\"YearsWithCurrManager\"],\"z\":{\"dtype\":\"f8\",\"bdata\":\"AAAAAAAA8D+PlA6AZ9WFP7KMKbkZoFu\\u002fA+SVa9mgyj\\u002fxzmGKJceEv0BTsH6mx4Q\\u002fZA\\u002f1R5LemD\\u002fvIlSMH4mePyWn4IatTuA\\u002fmiHqRYEJdL83Ssdm2dzfP3q+0fVxuZw\\u002fuzqSQzct0z8a3gwMLsRtP3RSlj2EMV8\\u002fkX1gHOdoqz9RJ0sYeTSjP2jcwWatxeU\\u002fOfC33noXlL\\u002fUPhBdewGWvyzYQJ577NM\\u002fKBB4f1dAyz\\u002f26gjFtbbLP449DBEK3sk\\u002fj5QOgGfVhT8AAAAAAADwPz1IOE6Ba3S\\u002fXKP7o7Q1kb+m4OgJaxuqvwmixWudy5I\\u002fNEgxo0zxlz\\u002feJQ1+\\u002fZ6nP5xRIubaTGg\\u002fihV3mwFOnz\\u002fvmNvcb5F\\u002fP7oQJVwbeqC\\u002f1pjr0NiIoz+F\\u002fGEBoj+XPwGjID+YBD8\\u002fmxTrcpQRgD9VeGeYvZOlP3fXbUDnuY0\\u002fv6+x11oXZD9NCJPa0WCjv2Cn9WGgb6G\\u002fQPN+ezxXhD+\\u002fseK1YwOhv9XzPvHy\\u002fpq\\u002fsowpuRmgW789SDhOgWt0vwAAAAAAAPA\\u002fRG+dA\\u002f2LlT9DW9hYa9qgP8fI4+4MdpC\\u002fW3NuPLLgnz+PQOne9\\u002fyBP00b+uRQuHU\\u002fXSmrBx0Obr8RVfYOPGyRv8M04anYIZw\\u002fC+SiPezznb+mrag8u5mkP9sDJrOfwps\\u002fqidssgLcej+0PylvdvmmP\\u002fJ4eJtB9XI\\u002fyoapsBfqor9pwplEfzGbvyXNNJDIeIM\\u002fWdt2expMkz8qGyST\\u002f4mEP05B\\u002fhbrgI0\\u002fA+SVa9mgyj9co\\u002fujtDWRv0RvnQP9i5U\\u002fAAAAAAAA8D9HumYTNoqlPybw7UiGx5u\\u002frkbCtWstkT8FOwm3YrqlPyQKE7C6Abo\\u002fJqCkH2sih7\\u002fJCU3KV0+4Pxyy+tbQtZq\\u002fOndzGyQrwD\\u002frkP48VcGGv7U0JWayIJm\\u002f2Oegzaesgr\\u002fcEC9FRt2SP0DLpT\\u002fU+sI\\u002fjo48q+Czmb8Vg6tHFRyEP2gIKWhvsbE\\u002fmXgCzjHXrj8LyuFYOcerP+Bu5MRErrE\\u002f8c5hiiXHhL+m4OgJaxuqv0Nb2Fhr2qA\\u002fR7pmEzaKpT8AAAAAAADwPzeWngkwC5I\\u002fJ76sfQIDoj\\u002fCkne\\u002fgjZ8vxbP3hGy9pK\\u002f\\u002fCA57Katp78bGc+1aV6Ovzb+C5VQ54k\\u002fd+CebDV\\u002fVL8c\\u002f2asYYKKv9vAw6Dx2JS\\u002f1oKB\\u002fW\\u002fisb9mipFSLdyvP3oVvEyAa42\\u002f98Tq5W0rmD+n77xushyFPwFTJYA9BYe\\u002fexRKRpI8gb9p0HZOlniCv4J1H9aw1YK\\u002fQFOwfqbHhD8JosVrncuSP8fI4+4MdpC\\u002fJvDtSIbHm783lp4JMAuSPwAAAAAAAPA\\u002fnW+92NmGqb99QH9r2POAv2XWXGA82lM\\u002fQtiZyOjJe78wa1oTIaN5v16xGf1BQKM\\u002fT5S5cg3LiT\\u002fAfp2ZIzugvzMVIYPRQZ6\\u002fUGPsubxlfz+tggGqwR1sP1ia0yfHD2a\\u002fFX7lMO3Sk7+cmelpVEqcP4AJ7IZn4Vc\\u002fNDuXMYxwkj\\u002fMh0h5DpWQP8UZWmOKeXS\\u002fZA\\u002f1R5LemD80SDGjTPGXP1tzbjyy4J8\\u002frkbCtWstkT8nvqx9AgOiP51vvdjZhqm\\u002fAAAAAAAA8D9BQoR21PGlP+j\\u002fw9SfhZy\\u002fVgPCZvxCsr91sx3TYSyQv8\\u002fucPjmU4+\\u002ffjErRkuwlj9f3sU0F4+Cv59uvC1hymG\\u002fVgkXzVLMVT\\u002fVSVfOH7ypP\\u002fG2iOMVHmO\\u002fzEtx43KBgb84xITkCN9yv6lN4gQ0DZS\\u002fyia1DU2vmL8nWcKhVFubv2THuRotm5S\\u002f7yJUjB+Jnj\\u002feJQ1+\\u002fZ6nP49A6d73\\u002fIE\\u002fBTsJt2K6pT\\u002fCkne\\u002fgjZ8v31Af2vY84C\\u002fQUKEdtTxpT8AAAAAAADwP5tdMyiy3Ym\\u002fFfoq8sf9lb+ThqXLqEaPv+Rn8i68tpC\\u002fTDtO\\u002f9O+jj+n34ZME56Rv5HXfCngxJ2\\u002f3YTDVVqPoT9cUDDyBwqWP16Jqz\\u002f2qXa\\u002fSFs6IHBpj789bOfsTe+Nv5Hl4HEy3pW\\u002fHC8kCTPagT\\u002fnMSRjxMOYvyCZg\\u002fZmmZo\\u002fJafghq1O4D+cUSLm2kxoP00b+uRQuHU\\u002fJAoTsLoBuj8Wz94RsvaSv2XWXGA82lM\\u002f6P\\u002fD1J+FnL+bXTMost2JvwAAAAAAAPA\\u002fJyMamoDYX7\\u002fOMzld22juP2O5v1mYQaQ\\u002fnGM0EXo9wj+yNQfxMcihv8k4cdI9u5W\\u002fi+LkLzEplj937x+zmKOMP6oYZanYB+k\\u002fXc21KIugkr9hnhf52FyjP87lxU6UHOE\\u002feVFP\\u002fbHs2D\\u002fEpO+5DqbWP6pQS\\u002fSYBNg\\u002fmiHqRYEJdL+KFXebAU6fP10pqwcdDm6\\u002fJqCkH2sih7\\u002f8IDnspq2nv0LYmcjoyXu\\u002fVgPCZvxCsr8V+iryx\\u002f2VvycjGpqA2F+\\u002fAAAAAAAA8D8sK9VlY1B9vzqS6RqRGUU\\u002fNO1CmqKErL9XKrAjanuUP+ttXUiS0WI\\u002fbQrJ+kSBib\\u002f2mprcweSFP\\u002f+3Mkxlq5S\\u002fS9k8ahKsd7\\u002f\\u002fwPLv++yTv2z1p1WwJm+\\u002fCjD3JXzhYr+gXVrYk6aSv8QlqBjpUZy\\u002fN0rHZtnc3z\\u002fvmNvcb5F\\u002fPxFV9g48bJG\\u002fyQlNyldPuD8bGc+1aV6OvzBrWhMho3m\\u002fdbMd02EskL+ThqXLqEaPv84zOV3baO4\\u002fLCvVZWNQfb8AAAAAAADwP90GZ3MX06E\\u002few53iVAjwz8akODbS+ybvx2TVAfxh5G\\u002fvw4v6JB+mj+2X\\u002fYoXCZ2P5LG\\u002fp2Ku+g\\u002f97Zh2AhClr8CbE+\\u002fYmufP+FMa3MFdeA\\u002f2pxK5clI1z+tZXEWHRTWP0bJtW9jBdY\\u002fer7R9XG5nD+6ECVcG3qgv8M04anYIZw\\u002fHLL61tC1mr82\\u002fguVUOeJP16xGf1BQKM\\u002fz+5w+OZTj7\\u002fkZ\\u002fIuvLaQv2O5v1mYQaQ\\u002fOpLpGpEZRT\\u002fdBmdzF9OhPwAAAAAAAPA\\u002ftyybHx7xkT+AdTZpqFV6v+Ao6aMDGIS\\u002faltePse7cL9Nz3wSw5Khv36ktDO8E5s\\u002fHX7wFYsIWD8q093o\\u002fE6AP1PlvlYLOZi\\u002fGZSWUq8+ir+V7zEroqtZP0TeXftb0KK\\u002fuzqSQzct0z\\u002fWmOvQ2IijPwvkoj3s852\\u002fOndzGyQrwD934J5sNX9Uv0+UuXINy4k\\u002ffjErRkuwlj9MO07\\u002f076OP5xjNBF6PcI\\u002fNO1CmqKErL97DneJUCPDP7csmx8e8ZE\\u002fAAAAAAAA8D84DPCe0veEv7FHJMzF3Yy\\u002fdFYCftP\\u002fqj+JtM\\u002f3GsyePzpWsvnwas4\\u002fxbTWbevosL+K06c0ByKBv\\u002fyLfWfcUL6\\u002fYXM6WaY7t78RuaY\\u002fRdmiv\\u002fg2ukzgPby\\u002fGt4MDC7EbT+F\\u002fGEBoj+XP6atqDy7maQ\\u002f65D+PFXBhr8c\\u002f2asYYKKv8B+nZkjO6C\\u002fX97FNBePgr+n34ZME56Rv7I1B\\u002fExyKG\\u002fVyqwI2p7lD8akODbS+ybv4B1NmmoVXq\\u002fOAzwntL3hL8AAAAAAADwP9CoC+zrwOg\\u002f1rLnqx27pL\\u002fZCTpratV+P\\u002fcdWjFkGpW\\u002feKvX1KBidb\\u002fOieUs5d1qv5KKLF5ybaK\\u002fpYr9EnTnWL++WU\\u002fAnq+Wv8gqydG4i4i\\u002fdFKWPYQxXz8BoyA\\u002fmAQ\\u002fP9sDJrOfwps\\u002ftTQlZrIgmb\\u002fbwMOg8diUvzMVIYPRQZ6\\u002fn268LWHKYb+R13wp4MSdv8k4cdI9u5W\\u002f621dSJLRYj8dk1QH8YeRv+Ao6aMDGIS\\u002fsUckzMXdjL\\u002fQqAvs68DoPwAAAAAAAPA\\u002fUVydR0wNoL8fZR6dmrlsPxBJx5E\\u002fn3s\\u002fe26fHNLnj7+fQ3T3oRJlP9C6akr7I2w\\u002fSDiEGLjpoT+En0arWFOSP0JSsF8BYJc\\u002fkX1gHOdoqz+bFOtylBGAP6onbLIC3Ho\\u002f2Oegzaesgr\\u002fWgoH9b+Kxv1Bj7Lm8ZX8\\u002fVgkXzVLMVT\\u002fdhMNVWo+hP4vi5C8xKZY\\u002fbQrJ+kSBib+\\u002fDi\\u002fokH6aP2pbXj7Hu3C\\u002fdFYCftP\\u002fqj\\u002fWsuerHbukv1FcnUdMDaC\\u002fAAAAAAAA8D\\u002fMQZi5FYenv6LtzTKwoZg\\u002fbdWlZphzZD9hm2xlLROUPw+wERHj1JM\\u002fSXW0RsP4jr8hIhni7SWhP\\u002fjJ3EkXbUy\\u002fUSdLGHk0oz9VeGeYvZOlP7Q\\u002fKW92+aY\\u002f3BAvRUbdkj9mipFSLdyvP62CAarBHWw\\u002f1UlXzh+8qT9cUDDyBwqWP3fvH7OYo4w\\u002f9pqa3MHkhT+2X\\u002fYoXCZ2P03PfBLDkqG\\u002fibTP9xrMnj\\u002fZCTpratV+Px9lHp2auWw\\u002fzEGYuRWHp78AAAAAAADwPxRO58UqwoQ\\u002fe2UvAtwWhz+\\u002frGGFSelwPy9GMKC71o4\\u002f+5MP28wEqj\\u002foy\\u002fKkrWSNP6L9be19Spk\\u002faNzBZq3F5T93121A57mNP\\u002fJ4eJtB9XI\\u002fQMulP9T6wj96FbxMgGuNv1ia0yfHD2a\\u002f8baI4xUeY79eias\\u002f9ql2v6oYZanYB+k\\u002f\\u002f7cyTGWrlL+Sxv6dirvoP36ktDO8E5s\\u002fOlay+fBqzj\\u002f3HVoxZBqVvxBJx5E\\u002fn3s\\u002fou3NMrChmD8UTufFKsKEPwAAAAAAAPA\\u002fWmi9xDtCor84+nw\\u002fX4JQPxQi7bOqGeQ\\u002f8rcfPp123T8GOROEMOnZP1gvC7tXY90\\u002fOfC33noXlL+\\u002fr7HXWhdkP8qGqbAX6qK\\u002fjo48q+Czmb\\u002f3xOrlbSuYPxV+5TDt0pO\\u002fzEtx43KBgb9IWzogcGmPv13NtSiLoJK\\u002fS9k8ahKsd7\\u002f3tmHYCEKWvx1+8BWLCFg\\u002fxbTWbevosL94q9fUoGJ1v3tunxzS54+\\u002fbdWlZphzZD97ZS8C3BaHP1povcQ7QqK\\u002fAAAAAAAA8D94FCjl9b6cP3pvIswIPG0\\u002fRPvflzWAd7+KLmAW1+1gv34oI2V4xnC\\u002f1D4QXXsBlr9NCJPa0WCjv2nCmUR\\u002fMZu\\u002fFYOrRxUchD+n77xushyFP5yZ6WlUSpw\\u002fOMSE5Ajfcr89bOfsTe+Nv2GeF\\u002fnYXKM\\u002f\\u002f8Dy7\\u002fvsk78CbE+\\u002fYmufPyrT3ej8ToA\\u002fitOnNAcigb\\u002fOieUs5d1qv59DdPehEmU\\u002fYZtsZS0TlD+\\u002frGGFSelwPzj6fD9fglA\\u002feBQo5fW+nD8AAAAAAADwP6Kc3f02wog\\u002fr04jeMqGqT\\u002fVCC0lyk+CPwFnEzP3mmY\\u002fLNhAnnvs0z9gp\\u002fVhoG+hvyXNNJDIeIM\\u002faAgpaG+xsT8BUyWAPQWHv4AJ7IZn4Vc\\u002fqU3iBDQNlL+R5eBxMt6Vv87lxU6UHOE\\u002fbPWnVbAmb7\\u002fhTGtzBXXgP1PlvlYLOZi\\u002f\\u002fIt9Z9xQvr+Siixecm2iv9C6akr7I2w\\u002fD7AREePUkz8vRjCgu9aOPxQi7bOqGeQ\\u002fem8izAg8bT+inN39NsKIPwAAAAAAAPA\\u002frR+P6rVH6D+QUHVjAcrjP\\u002fR\\u002fL2Bjneg\\u002fKBB4f1dAyz9A8357PFeEP1nbdnsaTJM\\u002fmXgCzjHXrj97FEpGkjyBvzQ7lzGMcJI\\u002fyia1DU2vmL8cLyQJM9qBP3lRT\\u002f2x7Ng\\u002fCjD3JXzhYr\\u002fanErlyUjXPxmUllKvPoq\\u002fYXM6WaY7t7+liv0SdOdYv0g4hBi46aE\\u002fSXW0RsP4jr\\u002f7kw\\u002fbzASqP\\u002fK3Hz6ddt0\\u002fRPvflzWAd7+vTiN4yoapP60fj+q1R+g\\u002fAAAAAAAA8D\\u002fxnIdBrYnhPwriFH0T3OY\\u002f9uoIxbW2yz+\\u002fseK1YwOhvyobJJP\\u002fiYQ\\u002fC8rhWDnHqz9p0HZOlniCv8yHSHkOlZA\\u002fJ1nCoVRbm7\\u002fnMSRjxMOYv8Sk77kOptY\\u002foF1a2JOmkr+tZXEWHRTWP5XvMSuiq1k\\u002fEbmmP0XZor++WU\\u002fAnq+Wv4SfRqtYU5I\\u002fISIZ4u0loT\\u002foy\\u002fKkrWSNPwY5E4Qw6dk\\u002fii5gFtftYL\\u002fVCC0lyk+CP5BQdWMByuM\\u002f8ZyHQa2J4T8AAAAAAADwP0seqoTAU+A\\u002fjj0MEQreyT\\u002fV8z7x8v6av05B\\u002fhbrgI0\\u002f4G7kxESusT+CdR\\u002fWsNWCv8UZWmOKeXS\\u002fZMe5Gi2blL8gmYP2ZpmaP6pQS\\u002fSYBNg\\u002fxCWoGOlRnL9GybVvYwXWP0TeXftb0KK\\u002f+Da6TOA9vL\\u002fIKsnRuIuIv0JSsF8BYJc\\u002f+MncSRdtTL+i\\u002fW3tfUqZP1gvC7tXY90\\u002ffigjZXjGcL8BZxMz95pmP\\u002fR\\u002fL2Bjneg\\u002fCuIUfRPc5j9LHqqEwFPgPwAAAAAAAPA\\u002f\",\"shape\":\"24, 24\"},\"type\":\"heatmap\"}],                        {\"height\":700,\"template\":{\"data\":{\"barpolar\":[{\"marker\":{\"line\":{\"color\":\"#E5ECF6\",\"width\":0.5},\"pattern\":{\"fillmode\":\"overlay\",\"size\":10,\"solidity\":0.2}},\"type\":\"barpolar\"}],\"bar\":[{\"error_x\":{\"color\":\"#2a3f5f\"},\"error_y\":{\"color\":\"#2a3f5f\"},\"marker\":{\"line\":{\"color\":\"#E5ECF6\",\"width\":0.5},\"pattern\":{\"fillmode\":\"overlay\",\"size\":10,\"solidity\":0.2}},\"type\":\"bar\"}],\"carpet\":[{\"aaxis\":{\"endlinecolor\":\"#2a3f5f\",\"gridcolor\":\"white\",\"linecolor\":\"white\",\"minorgridcolor\":\"white\",\"startlinecolor\":\"#2a3f5f\"},\"baxis\":{\"endlinecolor\":\"#2a3f5f\",\"gridcolor\":\"white\",\"linecolor\":\"white\",\"minorgridcolor\":\"white\",\"startlinecolor\":\"#2a3f5f\"},\"type\":\"carpet\"}],\"choropleth\":[{\"colorbar\":{\"outlinewidth\":0,\"ticks\":\"\"},\"type\":\"choropleth\"}],\"contourcarpet\":[{\"colorbar\":{\"outlinewidth\":0,\"ticks\":\"\"},\"type\":\"contourcarpet\"}],\"contour\":[{\"colorbar\":{\"outlinewidth\":0,\"ticks\":\"\"},\"colorscale\":[[0.0,\"#0d0887\"],[0.1111111111111111,\"#46039f\"],[0.2222222222222222,\"#7201a8\"],[0.3333333333333333,\"#9c179e\"],[0.4444444444444444,\"#bd3786\"],[0.5555555555555556,\"#d8576b\"],[0.6666666666666666,\"#ed7953\"],[0.7777777777777778,\"#fb9f3a\"],[0.8888888888888888,\"#fdca26\"],[1.0,\"#f0f921\"]],\"type\":\"contour\"}],\"heatmap\":[{\"colorbar\":{\"outlinewidth\":0,\"ticks\":\"\"},\"colorscale\":[[0.0,\"#0d0887\"],[0.1111111111111111,\"#46039f\"],[0.2222222222222222,\"#7201a8\"],[0.3333333333333333,\"#9c179e\"],[0.4444444444444444,\"#bd3786\"],[0.5555555555555556,\"#d8576b\"],[0.6666666666666666,\"#ed7953\"],[0.7777777777777778,\"#fb9f3a\"],[0.8888888888888888,\"#fdca26\"],[1.0,\"#f0f921\"]],\"type\":\"heatmap\"}],\"histogram2dcontour\":[{\"colorbar\":{\"outlinewidth\":0,\"ticks\":\"\"},\"colorscale\":[[0.0,\"#0d0887\"],[0.1111111111111111,\"#46039f\"],[0.2222222222222222,\"#7201a8\"],[0.3333333333333333,\"#9c179e\"],[0.4444444444444444,\"#bd3786\"],[0.5555555555555556,\"#d8576b\"],[0.6666666666666666,\"#ed7953\"],[0.7777777777777778,\"#fb9f3a\"],[0.8888888888888888,\"#fdca26\"],[1.0,\"#f0f921\"]],\"type\":\"histogram2dcontour\"}],\"histogram2d\":[{\"colorbar\":{\"outlinewidth\":0,\"ticks\":\"\"},\"colorscale\":[[0.0,\"#0d0887\"],[0.1111111111111111,\"#46039f\"],[0.2222222222222222,\"#7201a8\"],[0.3333333333333333,\"#9c179e\"],[0.4444444444444444,\"#bd3786\"],[0.5555555555555556,\"#d8576b\"],[0.6666666666666666,\"#ed7953\"],[0.7777777777777778,\"#fb9f3a\"],[0.8888888888888888,\"#fdca26\"],[1.0,\"#f0f921\"]],\"type\":\"histogram2d\"}],\"histogram\":[{\"marker\":{\"pattern\":{\"fillmode\":\"overlay\",\"size\":10,\"solidity\":0.2}},\"type\":\"histogram\"}],\"mesh3d\":[{\"colorbar\":{\"outlinewidth\":0,\"ticks\":\"\"},\"type\":\"mesh3d\"}],\"parcoords\":[{\"line\":{\"colorbar\":{\"outlinewidth\":0,\"ticks\":\"\"}},\"type\":\"parcoords\"}],\"pie\":[{\"automargin\":true,\"type\":\"pie\"}],\"scatter3d\":[{\"line\":{\"colorbar\":{\"outlinewidth\":0,\"ticks\":\"\"}},\"marker\":{\"colorbar\":{\"outlinewidth\":0,\"ticks\":\"\"}},\"type\":\"scatter3d\"}],\"scattercarpet\":[{\"marker\":{\"colorbar\":{\"outlinewidth\":0,\"ticks\":\"\"}},\"type\":\"scattercarpet\"}],\"scattergeo\":[{\"marker\":{\"colorbar\":{\"outlinewidth\":0,\"ticks\":\"\"}},\"type\":\"scattergeo\"}],\"scattergl\":[{\"marker\":{\"colorbar\":{\"outlinewidth\":0,\"ticks\":\"\"}},\"type\":\"scattergl\"}],\"scattermapbox\":[{\"marker\":{\"colorbar\":{\"outlinewidth\":0,\"ticks\":\"\"}},\"type\":\"scattermapbox\"}],\"scattermap\":[{\"marker\":{\"colorbar\":{\"outlinewidth\":0,\"ticks\":\"\"}},\"type\":\"scattermap\"}],\"scatterpolargl\":[{\"marker\":{\"colorbar\":{\"outlinewidth\":0,\"ticks\":\"\"}},\"type\":\"scatterpolargl\"}],\"scatterpolar\":[{\"marker\":{\"colorbar\":{\"outlinewidth\":0,\"ticks\":\"\"}},\"type\":\"scatterpolar\"}],\"scatter\":[{\"fillpattern\":{\"fillmode\":\"overlay\",\"size\":10,\"solidity\":0.2},\"type\":\"scatter\"}],\"scatterternary\":[{\"marker\":{\"colorbar\":{\"outlinewidth\":0,\"ticks\":\"\"}},\"type\":\"scatterternary\"}],\"surface\":[{\"colorbar\":{\"outlinewidth\":0,\"ticks\":\"\"},\"colorscale\":[[0.0,\"#0d0887\"],[0.1111111111111111,\"#46039f\"],[0.2222222222222222,\"#7201a8\"],[0.3333333333333333,\"#9c179e\"],[0.4444444444444444,\"#bd3786\"],[0.5555555555555556,\"#d8576b\"],[0.6666666666666666,\"#ed7953\"],[0.7777777777777778,\"#fb9f3a\"],[0.8888888888888888,\"#fdca26\"],[1.0,\"#f0f921\"]],\"type\":\"surface\"}],\"table\":[{\"cells\":{\"fill\":{\"color\":\"#EBF0F8\"},\"line\":{\"color\":\"white\"}},\"header\":{\"fill\":{\"color\":\"#C8D4E3\"},\"line\":{\"color\":\"white\"}},\"type\":\"table\"}]},\"layout\":{\"annotationdefaults\":{\"arrowcolor\":\"#2a3f5f\",\"arrowhead\":0,\"arrowwidth\":1},\"autotypenumbers\":\"strict\",\"coloraxis\":{\"colorbar\":{\"outlinewidth\":0,\"ticks\":\"\"}},\"colorscale\":{\"diverging\":[[0,\"#8e0152\"],[0.1,\"#c51b7d\"],[0.2,\"#de77ae\"],[0.3,\"#f1b6da\"],[0.4,\"#fde0ef\"],[0.5,\"#f7f7f7\"],[0.6,\"#e6f5d0\"],[0.7,\"#b8e186\"],[0.8,\"#7fbc41\"],[0.9,\"#4d9221\"],[1,\"#276419\"]],\"sequential\":[[0.0,\"#0d0887\"],[0.1111111111111111,\"#46039f\"],[0.2222222222222222,\"#7201a8\"],[0.3333333333333333,\"#9c179e\"],[0.4444444444444444,\"#bd3786\"],[0.5555555555555556,\"#d8576b\"],[0.6666666666666666,\"#ed7953\"],[0.7777777777777778,\"#fb9f3a\"],[0.8888888888888888,\"#fdca26\"],[1.0,\"#f0f921\"]],\"sequentialminus\":[[0.0,\"#0d0887\"],[0.1111111111111111,\"#46039f\"],[0.2222222222222222,\"#7201a8\"],[0.3333333333333333,\"#9c179e\"],[0.4444444444444444,\"#bd3786\"],[0.5555555555555556,\"#d8576b\"],[0.6666666666666666,\"#ed7953\"],[0.7777777777777778,\"#fb9f3a\"],[0.8888888888888888,\"#fdca26\"],[1.0,\"#f0f921\"]]},\"colorway\":[\"#636efa\",\"#EF553B\",\"#00cc96\",\"#ab63fa\",\"#FFA15A\",\"#19d3f3\",\"#FF6692\",\"#B6E880\",\"#FF97FF\",\"#FECB52\"],\"font\":{\"color\":\"#2a3f5f\"},\"geo\":{\"bgcolor\":\"white\",\"lakecolor\":\"white\",\"landcolor\":\"#E5ECF6\",\"showlakes\":true,\"showland\":true,\"subunitcolor\":\"white\"},\"hoverlabel\":{\"align\":\"left\"},\"hovermode\":\"closest\",\"mapbox\":{\"style\":\"light\"},\"paper_bgcolor\":\"white\",\"plot_bgcolor\":\"#E5ECF6\",\"polar\":{\"angularaxis\":{\"gridcolor\":\"white\",\"linecolor\":\"white\",\"ticks\":\"\"},\"bgcolor\":\"#E5ECF6\",\"radialaxis\":{\"gridcolor\":\"white\",\"linecolor\":\"white\",\"ticks\":\"\"}},\"scene\":{\"xaxis\":{\"backgroundcolor\":\"#E5ECF6\",\"gridcolor\":\"white\",\"gridwidth\":2,\"linecolor\":\"white\",\"showbackground\":true,\"ticks\":\"\",\"zerolinecolor\":\"white\"},\"yaxis\":{\"backgroundcolor\":\"#E5ECF6\",\"gridcolor\":\"white\",\"gridwidth\":2,\"linecolor\":\"white\",\"showbackground\":true,\"ticks\":\"\",\"zerolinecolor\":\"white\"},\"zaxis\":{\"backgroundcolor\":\"#E5ECF6\",\"gridcolor\":\"white\",\"gridwidth\":2,\"linecolor\":\"white\",\"showbackground\":true,\"ticks\":\"\",\"zerolinecolor\":\"white\"}},\"shapedefaults\":{\"line\":{\"color\":\"#2a3f5f\"}},\"ternary\":{\"aaxis\":{\"gridcolor\":\"white\",\"linecolor\":\"white\",\"ticks\":\"\"},\"baxis\":{\"gridcolor\":\"white\",\"linecolor\":\"white\",\"ticks\":\"\"},\"bgcolor\":\"#E5ECF6\",\"caxis\":{\"gridcolor\":\"white\",\"linecolor\":\"white\",\"ticks\":\"\"}},\"title\":{\"x\":0.05},\"xaxis\":{\"automargin\":true,\"gridcolor\":\"white\",\"linecolor\":\"white\",\"ticks\":\"\",\"title\":{\"standoff\":15},\"zerolinecolor\":\"white\",\"zerolinewidth\":2},\"yaxis\":{\"automargin\":true,\"gridcolor\":\"white\",\"linecolor\":\"white\",\"ticks\":\"\",\"title\":{\"standoff\":15},\"zerolinecolor\":\"white\",\"zerolinewidth\":2}}},\"title\":{\"text\":\"Pearson Correlation of numerical features\"},\"width\":900,\"xaxis\":{\"nticks\":36,\"ticks\":\"\"},\"yaxis\":{\"ticks\":\"\"}},                        {\"responsive\": true}                    ).then(function(){\n",
       "                            \n",
       "var gd = document.getElementById('d4f46185-a013-471c-a50f-a12587386082');\n",
       "var x = new MutationObserver(function (mutations, observer) {{\n",
       "        var display = window.getComputedStyle(gd).display;\n",
       "        if (!display || display === 'none') {{\n",
       "            console.log([gd, 'removed!']);\n",
       "            Plotly.purge(gd);\n",
       "            observer.disconnect();\n",
       "        }}\n",
       "}});\n",
       "\n",
       "// Listen for the removal of the full notebook cells\n",
       "var notebookContainer = gd.closest('#notebook-container');\n",
       "if (notebookContainer) {{\n",
       "    x.observe(notebookContainer, {childList: true});\n",
       "}}\n",
       "\n",
       "// Listen for the clearing of the current output cell\n",
       "var outputEl = gd.closest('.output');\n",
       "if (outputEl) {{\n",
       "    x.observe(outputEl, {childList: true});\n",
       "}}\n",
       "\n",
       "                        })                };            </script>        </div>"
      ]
     },
     "metadata": {},
     "output_type": "display_data"
    }
   ],
   "source": [
    "# Define a dictionary for the target mapping\n",
    "target_map = {'Yes':1, 'No':0}\n",
    "# Use the pandas apply method to numerically encode our attrition target variable\n",
    "attrition[\"Attrition_numerical\"] = attrition[\"Attrition\"].apply(lambda x: target_map[x])\n",
    "\n",
    "# creating a list of only numerical values\n",
    "numerical = [u'Age', u'DailyRate', u'DistanceFromHome', \n",
    "             u'Education', u'EmployeeNumber', u'EnvironmentSatisfaction',\n",
    "             u'HourlyRate', u'JobInvolvement', u'JobLevel', u'JobSatisfaction',\n",
    "             u'MonthlyIncome', u'MonthlyRate', u'NumCompaniesWorked',\n",
    "             u'PercentSalaryHike', u'PerformanceRating', u'RelationshipSatisfaction',\n",
    "             u'StockOptionLevel', u'TotalWorkingYears',\n",
    "             u'TrainingTimesLastYear', u'WorkLifeBalance', u'YearsAtCompany',\n",
    "             u'YearsInCurrentRole', u'YearsSinceLastPromotion',u'YearsWithCurrManager']\n",
    "data = [\n",
    "    go.Heatmap(\n",
    "        z= attrition[numerical].astype(float).corr().values, # Generating the Pearson correlation\n",
    "        x=attrition[numerical].columns.values,\n",
    "        y=attrition[numerical].columns.values,\n",
    "        colorscale='Viridis',\n",
    "        reversescale = False,\n",
    "#         text = True ,\n",
    "        opacity = 1.0\n",
    "        \n",
    "    )\n",
    "]\n",
    "\n",
    "\n",
    "layout = go.Layout(\n",
    "    title='Pearson Correlation of numerical features',\n",
    "    xaxis = dict(ticks='', nticks=36),\n",
    "    yaxis = dict(ticks='' ),\n",
    "    width = 900, height = 700,\n",
    "    \n",
    ")\n",
    "\n",
    "\n",
    "fig = go.Figure(data=data, layout=layout)\n",
    "py.iplot(fig, filename='labelled-heatmap')"
   ]
  }
 ],
 "metadata": {
  "kernelspec": {
   "display_name": "Python 3",
   "language": "python",
   "name": "python3"
  },
  "language_info": {
   "codemirror_mode": {
    "name": "ipython",
    "version": 3
   },
   "file_extension": ".py",
   "mimetype": "text/x-python",
   "name": "python",
   "nbconvert_exporter": "python",
   "pygments_lexer": "ipython3",
   "version": "3.13.1"
  }
 },
 "nbformat": 4,
 "nbformat_minor": 2
}
